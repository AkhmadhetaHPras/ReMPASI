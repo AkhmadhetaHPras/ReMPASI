{
 "cells": [
  {
   "attachments": {},
   "cell_type": "markdown",
   "metadata": {},
   "source": [
    "# Menginstall library yang diperlukan"
   ]
  },
  {
   "attachments": {},
   "cell_type": "markdown",
   "metadata": {},
   "source": [
    "## Device Specification"
   ]
  },
  {
   "attachments": {},
   "cell_type": "markdown",
   "metadata": {},
   "source": [
    "OS  : Ubuntu 22.04.2 LTS (Codename: jammy)\n",
    "\n",
    "CPU : AMD Ryzen 5 4600H with Radeon Graphics\n",
    "\n",
    "GPU : 1x GeForce GTX 1650TI\n",
    "\n",
    "RAM : 16 GB"
   ]
  },
  {
   "attachments": {},
   "cell_type": "markdown",
   "metadata": {},
   "source": [
    "### Pre-requirements Dependencies (YOLOv4 with GPU)"
   ]
  },
  {
   "cell_type": "code",
   "execution_count": 5,
   "metadata": {},
   "outputs": [
    {
     "name": "stdout",
     "output_type": "stream",
     "text": [
      "Python 3.10.6\n"
     ]
    }
   ],
   "source": [
    "# Python\n",
    "!python3 --version"
   ]
  },
  {
   "cell_type": "code",
   "execution_count": 3,
   "metadata": {},
   "outputs": [
    {
     "name": "stdout",
     "output_type": "stream",
     "text": [
      "cmake version 3.22.1\n",
      "\n",
      "CMake suite maintained and supported by Kitware (kitware.com/cmake).\n"
     ]
    }
   ],
   "source": [
    "# CMake >= 3.18\n",
    "!cmake --version"
   ]
  },
  {
   "cell_type": "code",
   "execution_count": 2,
   "metadata": {},
   "outputs": [
    {
     "name": "stdout",
     "output_type": "stream",
     "text": [
      "nvcc: NVIDIA (R) Cuda compiler driver\n",
      "Copyright (c) 2005-2023 NVIDIA Corporation\n",
      "Built on Mon_Apr__3_17:16:06_PDT_2023\n",
      "Cuda compilation tools, release 12.1, V12.1.105\n",
      "Build cuda_12.1.r12.1/compiler.32688072_0\n"
     ]
    }
   ],
   "source": [
    "# CUDA >= 10.2\n",
    "!/usr/local/cuda/bin/nvcc --version"
   ]
  },
  {
   "cell_type": "code",
   "execution_count": 6,
   "metadata": {},
   "outputs": [
    {
     "name": "stdout",
     "output_type": "stream",
     "text": [
      "OpenCV version : 4.7.0\n"
     ]
    }
   ],
   "source": [
    "# OpenCV >= 2.4\n",
    "import cv2\n",
    "print(\"OpenCV version : \" + cv2.__version__)"
   ]
  },
  {
   "cell_type": "code",
   "execution_count": 13,
   "metadata": {},
   "outputs": [
    {
     "name": "stdout",
     "output_type": "stream",
     "text": [
      "#define CUDNN_MAJOR 8\n",
      "#define CUDNN_MINOR 9\n",
      "#define CUDNN_PATCHLEVEL 1\n",
      "--\n",
      "#define CUDNN_VERSION (CUDNN_MAJOR * 1000 + CUDNN_MINOR * 100 + CUDNN_PATCHLEVEL)\n",
      "\n",
      "/* cannot use constexpr here since this is a C-only file */\n"
     ]
    }
   ],
   "source": [
    "# cuDNN >= 8.0.2\n",
    "!cat /usr/local/cuda/include/cudnn_version.h | grep CUDNN_MAJOR -A 2\n",
    "\n",
    "# cuDNN installed in local is 8.9.1"
   ]
  },
  {
   "cell_type": "code",
   "execution_count": 19,
   "metadata": {},
   "outputs": [
    {
     "name": "stdout",
     "output_type": "stream",
     "text": [
      "GeForce GTX 1650TI Compute Capability : 7.5 according to https://developer.nvidia.com/cuda-gpus\n"
     ]
    }
   ],
   "source": [
    "# GPU with Computre Capability >= 3.0\n",
    "print(\"GeForce GTX 1650TI Compute Capability : 7.5 according to https://developer.nvidia.com/cuda-gpus\")"
   ]
  },
  {
   "attachments": {},
   "cell_type": "markdown",
   "metadata": {},
   "source": [
    "### Installing Darknet Library"
   ]
  },
  {
   "cell_type": "code",
   "execution_count": 1,
   "metadata": {},
   "outputs": [
    {
     "name": "stdout",
     "output_type": "stream",
     "text": [
      "Cloning into 'darknet'...\n",
      "remote: Enumerating objects: 15521, done.\u001b[K\n",
      "remote: Counting objects: 100% (7/7), done.\u001b[K\n",
      "remote: Compressing objects: 100% (7/7), done.\u001b[K\n",
      "remote: Total 15521 (delta 0), reused 5 (delta 0), pack-reused 15514\u001b[K\n",
      "Receiving objects: 100% (15521/15521), 14.19 MiB | 1.10 MiB/s, done.\n",
      "Resolving deltas: 100% (10412/10412), done.\n"
     ]
    }
   ],
   "source": [
    "# Clone repository Darknet\n",
    "!git clone https://github.com/AlexeyAB/darknet.git"
   ]
  },
  {
   "attachments": {},
   "cell_type": "markdown",
   "metadata": {},
   "source": [
    "### Installing Python required libraries"
   ]
  },
  {
   "cell_type": "code",
   "execution_count": 22,
   "metadata": {},
   "outputs": [
    {
     "name": "stdout",
     "output_type": "stream",
     "text": [
      "Defaulting to user installation because normal site-packages is not writeable\n",
      "Requirement already satisfied: tensorflow==2.12.0 in /home/dimas/.local/lib/python3.10/site-packages (from -r requirements.txt (line 1)) (2.12.0)\n",
      "Requirement already satisfied: opencv-python==4.7.0.72 in /home/dimas/.local/lib/python3.10/site-packages (from -r requirements.txt (line 2)) (4.7.0.72)\n",
      "Requirement already satisfied: lxml==4.9.2 in /home/dimas/.local/lib/python3.10/site-packages (from -r requirements.txt (line 3)) (4.9.2)\n",
      "Requirement already satisfied: tqdm==4.65.0 in /home/dimas/.local/lib/python3.10/site-packages (from -r requirements.txt (line 4)) (4.65.0)\n",
      "Requirement already satisfied: absl-py==1.4.0 in /home/dimas/.local/lib/python3.10/site-packages (from -r requirements.txt (line 5)) (1.4.0)\n",
      "Requirement already satisfied: matplotlib==3.7.1 in /home/dimas/.local/lib/python3.10/site-packages (from -r requirements.txt (line 6)) (3.7.1)\n",
      "Requirement already satisfied: easydict==1.10 in /home/dimas/.local/lib/python3.10/site-packages (from -r requirements.txt (line 7)) (1.10)\n",
      "Requirement already satisfied: Pillow==9.0.1 in /usr/lib/python3/dist-packages (from -r requirements.txt (line 8)) (9.0.1)\n",
      "Requirement already satisfied: pytesseract==0.3.10 in /home/dimas/.local/lib/python3.10/site-packages (from -r requirements.txt (line 9)) (0.3.10)\n",
      "Requirement already satisfied: setuptools in /usr/lib/python3/dist-packages (from tensorflow==2.12.0->-r requirements.txt (line 1)) (59.6.0)\n",
      "Requirement already satisfied: termcolor>=1.1.0 in /home/dimas/.local/lib/python3.10/site-packages (from tensorflow==2.12.0->-r requirements.txt (line 1)) (2.3.0)\n",
      "Requirement already satisfied: flatbuffers>=2.0 in /home/dimas/.local/lib/python3.10/site-packages (from tensorflow==2.12.0->-r requirements.txt (line 1)) (23.5.9)\n",
      "Requirement already satisfied: astunparse>=1.6.0 in /home/dimas/.local/lib/python3.10/site-packages (from tensorflow==2.12.0->-r requirements.txt (line 1)) (1.6.3)\n",
      "Requirement already satisfied: jax>=0.3.15 in /home/dimas/.local/lib/python3.10/site-packages (from tensorflow==2.12.0->-r requirements.txt (line 1)) (0.4.10)\n",
      "Requirement already satisfied: tensorflow-io-gcs-filesystem>=0.23.1 in /home/dimas/.local/lib/python3.10/site-packages (from tensorflow==2.12.0->-r requirements.txt (line 1)) (0.32.0)\n",
      "Requirement already satisfied: keras<2.13,>=2.12.0 in /home/dimas/.local/lib/python3.10/site-packages (from tensorflow==2.12.0->-r requirements.txt (line 1)) (2.12.0)\n",
      "Requirement already satisfied: numpy<1.24,>=1.22 in /home/dimas/.local/lib/python3.10/site-packages (from tensorflow==2.12.0->-r requirements.txt (line 1)) (1.23.5)\n",
      "Requirement already satisfied: h5py>=2.9.0 in /home/dimas/.local/lib/python3.10/site-packages (from tensorflow==2.12.0->-r requirements.txt (line 1)) (3.8.0)\n",
      "Requirement already satisfied: google-pasta>=0.1.1 in /home/dimas/.local/lib/python3.10/site-packages (from tensorflow==2.12.0->-r requirements.txt (line 1)) (0.2.0)\n",
      "Requirement already satisfied: opt-einsum>=2.3.2 in /home/dimas/.local/lib/python3.10/site-packages (from tensorflow==2.12.0->-r requirements.txt (line 1)) (3.3.0)\n",
      "Requirement already satisfied: grpcio<2.0,>=1.24.3 in /home/dimas/.local/lib/python3.10/site-packages (from tensorflow==2.12.0->-r requirements.txt (line 1)) (1.54.2)\n",
      "Requirement already satisfied: tensorflow-estimator<2.13,>=2.12.0 in /home/dimas/.local/lib/python3.10/site-packages (from tensorflow==2.12.0->-r requirements.txt (line 1)) (2.12.0)\n",
      "Requirement already satisfied: wrapt<1.15,>=1.11.0 in /home/dimas/.local/lib/python3.10/site-packages (from tensorflow==2.12.0->-r requirements.txt (line 1)) (1.14.1)\n",
      "Requirement already satisfied: typing-extensions>=3.6.6 in /home/dimas/.local/lib/python3.10/site-packages (from tensorflow==2.12.0->-r requirements.txt (line 1)) (4.5.0)\n",
      "Requirement already satisfied: six>=1.12.0 in /usr/lib/python3/dist-packages (from tensorflow==2.12.0->-r requirements.txt (line 1)) (1.16.0)\n",
      "Requirement already satisfied: tensorboard<2.13,>=2.12 in /home/dimas/.local/lib/python3.10/site-packages (from tensorflow==2.12.0->-r requirements.txt (line 1)) (2.12.3)\n",
      "Requirement already satisfied: protobuf!=4.21.0,!=4.21.1,!=4.21.2,!=4.21.3,!=4.21.4,!=4.21.5,<5.0.0dev,>=3.20.3 in /home/dimas/.local/lib/python3.10/site-packages (from tensorflow==2.12.0->-r requirements.txt (line 1)) (4.23.1)\n",
      "Requirement already satisfied: gast<=0.4.0,>=0.2.1 in /home/dimas/.local/lib/python3.10/site-packages (from tensorflow==2.12.0->-r requirements.txt (line 1)) (0.4.0)\n",
      "Requirement already satisfied: packaging in /home/dimas/.local/lib/python3.10/site-packages (from tensorflow==2.12.0->-r requirements.txt (line 1)) (23.1)\n",
      "Requirement already satisfied: libclang>=13.0.0 in /home/dimas/.local/lib/python3.10/site-packages (from tensorflow==2.12.0->-r requirements.txt (line 1)) (16.0.0)\n",
      "Requirement already satisfied: contourpy>=1.0.1 in /home/dimas/.local/lib/python3.10/site-packages (from matplotlib==3.7.1->-r requirements.txt (line 6)) (1.0.7)\n",
      "Requirement already satisfied: python-dateutil>=2.7 in /home/dimas/.local/lib/python3.10/site-packages (from matplotlib==3.7.1->-r requirements.txt (line 6)) (2.8.2)\n",
      "Requirement already satisfied: fonttools>=4.22.0 in /home/dimas/.local/lib/python3.10/site-packages (from matplotlib==3.7.1->-r requirements.txt (line 6)) (4.39.4)\n",
      "Requirement already satisfied: kiwisolver>=1.0.1 in /home/dimas/.local/lib/python3.10/site-packages (from matplotlib==3.7.1->-r requirements.txt (line 6)) (1.4.4)\n",
      "Requirement already satisfied: pyparsing>=2.3.1 in /usr/lib/python3/dist-packages (from matplotlib==3.7.1->-r requirements.txt (line 6)) (2.4.7)\n",
      "Requirement already satisfied: cycler>=0.10 in /home/dimas/.local/lib/python3.10/site-packages (from matplotlib==3.7.1->-r requirements.txt (line 6)) (0.11.0)\n",
      "Requirement already satisfied: wheel<1.0,>=0.23.0 in /usr/lib/python3/dist-packages (from astunparse>=1.6.0->tensorflow==2.12.0->-r requirements.txt (line 1)) (0.37.1)\n",
      "Requirement already satisfied: scipy>=1.7 in /home/dimas/.local/lib/python3.10/site-packages (from jax>=0.3.15->tensorflow==2.12.0->-r requirements.txt (line 1)) (1.10.1)\n",
      "Requirement already satisfied: ml-dtypes>=0.1.0 in /home/dimas/.local/lib/python3.10/site-packages (from jax>=0.3.15->tensorflow==2.12.0->-r requirements.txt (line 1)) (0.1.0)\n",
      "Requirement already satisfied: markdown>=2.6.8 in /home/dimas/.local/lib/python3.10/site-packages (from tensorboard<2.13,>=2.12->tensorflow==2.12.0->-r requirements.txt (line 1)) (3.4.3)\n",
      "Requirement already satisfied: requests<3,>=2.21.0 in /usr/lib/python3/dist-packages (from tensorboard<2.13,>=2.12->tensorflow==2.12.0->-r requirements.txt (line 1)) (2.25.1)\n",
      "Requirement already satisfied: tensorboard-data-server<0.8.0,>=0.7.0 in /home/dimas/.local/lib/python3.10/site-packages (from tensorboard<2.13,>=2.12->tensorflow==2.12.0->-r requirements.txt (line 1)) (0.7.0)\n",
      "Requirement already satisfied: google-auth<3,>=1.6.3 in /home/dimas/.local/lib/python3.10/site-packages (from tensorboard<2.13,>=2.12->tensorflow==2.12.0->-r requirements.txt (line 1)) (2.18.1)\n",
      "Requirement already satisfied: google-auth-oauthlib<1.1,>=0.5 in /home/dimas/.local/lib/python3.10/site-packages (from tensorboard<2.13,>=2.12->tensorflow==2.12.0->-r requirements.txt (line 1)) (1.0.0)\n",
      "Requirement already satisfied: werkzeug>=1.0.1 in /home/dimas/.local/lib/python3.10/site-packages (from tensorboard<2.13,>=2.12->tensorflow==2.12.0->-r requirements.txt (line 1)) (2.3.4)\n",
      "Requirement already satisfied: urllib3<2.0 in /usr/lib/python3/dist-packages (from google-auth<3,>=1.6.3->tensorboard<2.13,>=2.12->tensorflow==2.12.0->-r requirements.txt (line 1)) (1.26.5)\n",
      "Requirement already satisfied: cachetools<6.0,>=2.0.0 in /home/dimas/.local/lib/python3.10/site-packages (from google-auth<3,>=1.6.3->tensorboard<2.13,>=2.12->tensorflow==2.12.0->-r requirements.txt (line 1)) (5.3.0)\n",
      "Requirement already satisfied: pyasn1-modules>=0.2.1 in /home/dimas/.local/lib/python3.10/site-packages (from google-auth<3,>=1.6.3->tensorboard<2.13,>=2.12->tensorflow==2.12.0->-r requirements.txt (line 1)) (0.3.0)\n",
      "Requirement already satisfied: rsa<5,>=3.1.4 in /home/dimas/.local/lib/python3.10/site-packages (from google-auth<3,>=1.6.3->tensorboard<2.13,>=2.12->tensorflow==2.12.0->-r requirements.txt (line 1)) (4.7.2)\n",
      "Requirement already satisfied: requests-oauthlib>=0.7.0 in /home/dimas/.local/lib/python3.10/site-packages (from google-auth-oauthlib<1.1,>=0.5->tensorboard<2.13,>=2.12->tensorflow==2.12.0->-r requirements.txt (line 1)) (1.3.1)\n",
      "Requirement already satisfied: MarkupSafe>=2.1.1 in /home/dimas/.local/lib/python3.10/site-packages (from werkzeug>=1.0.1->tensorboard<2.13,>=2.12->tensorflow==2.12.0->-r requirements.txt (line 1)) (2.1.2)\n",
      "Requirement already satisfied: pyasn1<0.6.0,>=0.4.6 in /home/dimas/.local/lib/python3.10/site-packages (from pyasn1-modules>=0.2.1->google-auth<3,>=1.6.3->tensorboard<2.13,>=2.12->tensorflow==2.12.0->-r requirements.txt (line 1)) (0.5.0)\n",
      "Requirement already satisfied: oauthlib>=3.0.0 in /usr/lib/python3/dist-packages (from requests-oauthlib>=0.7.0->google-auth-oauthlib<1.1,>=0.5->tensorboard<2.13,>=2.12->tensorflow==2.12.0->-r requirements.txt (line 1)) (3.2.0)\n",
      "Note: you may need to restart the kernel to use updated packages.\n"
     ]
    }
   ],
   "source": [
    "%pip install -r requirements.txt"
   ]
  }
 ],
 "metadata": {
  "kernelspec": {
   "display_name": "Python 3",
   "language": "python",
   "name": "python3"
  },
  "language_info": {
   "codemirror_mode": {
    "name": "ipython",
    "version": 3
   },
   "file_extension": ".py",
   "mimetype": "text/x-python",
   "name": "python",
   "nbconvert_exporter": "python",
   "pygments_lexer": "ipython3",
   "version": "3.10.6"
  },
  "orig_nbformat": 4
 },
 "nbformat": 4,
 "nbformat_minor": 2
}
