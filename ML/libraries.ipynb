{
 "cells": [
  {
   "attachments": {},
   "cell_type": "markdown",
   "metadata": {},
   "source": [
    "# Menginstall library yang diperlukan"
   ]
  },
  {
   "attachments": {},
   "cell_type": "markdown",
   "metadata": {},
   "source": [
    "## Device Specification"
   ]
  },
  {
   "attachments": {},
   "cell_type": "markdown",
   "metadata": {},
   "source": [
    "OS  : Ubuntu 22.04.2 LTS (Codename: jammy)\n",
    "\n",
    "CPU : AMD Ryzen 5 4600H with Radeon Graphics\n",
    "\n",
    "GPU : 1x GeForce GTX 1650TI\n",
    "\n",
    "RAM : 16 GB"
   ]
  },
  {
   "attachments": {},
   "cell_type": "markdown",
   "metadata": {},
   "source": [
    "### Pre-requirements Dependencies (YOLOv4 with GPU)"
   ]
  },
  {
   "cell_type": "code",
   "execution_count": 5,
   "metadata": {},
   "outputs": [
    {
     "name": "stdout",
     "output_type": "stream",
     "text": [
      "Python 3.10.6\n"
     ]
    }
   ],
   "source": [
    "# Python\n",
    "!python3 --version"
   ]
  },
  {
   "cell_type": "code",
   "execution_count": 3,
   "metadata": {},
   "outputs": [
    {
     "name": "stdout",
     "output_type": "stream",
     "text": [
      "cmake version 3.22.1\n",
      "\n",
      "CMake suite maintained and supported by Kitware (kitware.com/cmake).\n"
     ]
    }
   ],
   "source": [
    "# CMake >= 3.18\n",
    "!cmake --version"
   ]
  },
  {
   "cell_type": "code",
   "execution_count": 2,
   "metadata": {},
   "outputs": [
    {
     "name": "stdout",
     "output_type": "stream",
     "text": [
      "nvcc: NVIDIA (R) Cuda compiler driver\n",
      "Copyright (c) 2005-2023 NVIDIA Corporation\n",
      "Built on Mon_Apr__3_17:16:06_PDT_2023\n",
      "Cuda compilation tools, release 12.1, V12.1.105\n",
      "Build cuda_12.1.r12.1/compiler.32688072_0\n"
     ]
    }
   ],
   "source": [
    "# CUDA >= 10.2\n",
    "!/usr/local/cuda/bin/nvcc --version"
   ]
  },
  {
   "cell_type": "code",
   "execution_count": 6,
   "metadata": {},
   "outputs": [
    {
     "name": "stdout",
     "output_type": "stream",
     "text": [
      "OpenCV version : 4.7.0\n"
     ]
    }
   ],
   "source": [
    "# OpenCV >= 2.4\n",
    "import cv2\n",
    "print(\"OpenCV version : \" + cv2.__version__)"
   ]
  },
  {
   "cell_type": "code",
   "execution_count": 13,
   "metadata": {},
   "outputs": [
    {
     "name": "stdout",
     "output_type": "stream",
     "text": [
      "#define CUDNN_MAJOR 8\n",
      "#define CUDNN_MINOR 9\n",
      "#define CUDNN_PATCHLEVEL 1\n",
      "--\n",
      "#define CUDNN_VERSION (CUDNN_MAJOR * 1000 + CUDNN_MINOR * 100 + CUDNN_PATCHLEVEL)\n",
      "\n",
      "/* cannot use constexpr here since this is a C-only file */\n"
     ]
    }
   ],
   "source": [
    "# cuDNN >= 8.0.2\n",
    "!cat /usr/local/cuda/include/cudnn_version.h | grep CUDNN_MAJOR -A 2\n",
    "\n",
    "# cuDNN installed in local is 8.9.1"
   ]
  },
  {
   "cell_type": "code",
   "execution_count": 19,
   "metadata": {},
   "outputs": [
    {
     "name": "stdout",
     "output_type": "stream",
     "text": [
      "GeForce GTX 1650TI Compute Capability : 7.5 according to https://developer.nvidia.com/cuda-gpus\n"
     ]
    }
   ],
   "source": [
    "# GPU with Computre Capability >= 3.0\n",
    "print(\"GeForce GTX 1650TI Compute Capability : 7.5 according to https://developer.nvidia.com/cuda-gpus\")"
   ]
  },
  {
   "attachments": {},
   "cell_type": "markdown",
   "metadata": {},
   "source": [
    "### Installing Darknet Library"
   ]
  },
  {
   "cell_type": "code",
   "execution_count": 1,
   "metadata": {},
   "outputs": [
    {
     "name": "stdout",
     "output_type": "stream",
     "text": [
      "Cloning into 'darknet'...\n",
      "remote: Enumerating objects: 15521, done.\u001b[K\n",
      "remote: Counting objects: 100% (7/7), done.\u001b[K\n",
      "remote: Compressing objects: 100% (7/7), done.\u001b[K\n",
      "remote: Total 15521 (delta 0), reused 5 (delta 0), pack-reused 15514\u001b[K\n",
      "Receiving objects: 100% (15521/15521), 14.19 MiB | 1.10 MiB/s, done.\n",
      "Resolving deltas: 100% (10412/10412), done.\n"
     ]
    }
   ],
   "source": [
    "# Clone repository Darknet\n",
    "!git clone https://github.com/AlexeyAB/darknet.git"
   ]
  },
  {
   "cell_type": "code",
   "execution_count": null,
   "metadata": {},
   "outputs": [],
   "source": []
  }
 ],
 "metadata": {
  "kernelspec": {
   "display_name": "Python 3",
   "language": "python",
   "name": "python3"
  },
  "language_info": {
   "codemirror_mode": {
    "name": "ipython",
    "version": 3
   },
   "file_extension": ".py",
   "mimetype": "text/x-python",
   "name": "python",
   "nbconvert_exporter": "python",
   "pygments_lexer": "ipython3",
   "version": "3.10.6"
  },
  "orig_nbformat": 4
 },
 "nbformat": 4,
 "nbformat_minor": 2
}
